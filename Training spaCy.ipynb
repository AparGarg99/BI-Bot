{
 "cells": [
  {
   "cell_type": "code",
   "execution_count": 1,
   "metadata": {},
   "outputs": [],
   "source": [
    "TRAIN_DATA=[('What are the total sales of Prod1 in US in Q4 2018 ?', {'entities': [(28, 33, 'Product'), (37, 39, 'Country'), (43, 45, 'Quarter'), (46, 50, 'Year')]}), \n",
    "            ('What are the total sales of Prod1,Prod2,Prod3,Prod4 in US in Q4 2018 ?', {'entities': [(28, 33, 'Product'), (34, 39, 'Product'), (40, 45, 'Product'), (46, 51, 'Product'), (55, 57, 'Country'), (61, 63, 'Quarter'), (64, 68, 'Year')]}), \n",
    "            ('What are the total sales of Prod1 in FRANCE,Japan,USA,India in Q4 2018 ?', {'entities': [(28, 33, 'Product'), (37, 43, 'Country'), (44, 49, 'Country'), (50, 53, 'Country'), (54, 59, 'Country'), (63, 65, 'Quarter'), (66, 70, 'Year')]}), \n",
    "            ('What are the total sales of Prod1 in FRANCE in Q4,Q2,Q3,Q1 2018 ?', {'entities': [(28, 33, 'Product'), (37, 43, 'Country'), (47, 49, 'Quarter'), (50, 52, 'Quarter'), (53, 55, 'Quarter'), (56, 58, 'Quarter'), (59, 63, 'Year')]}), \n",
    "            ('What are the total sales of Prod1 in FRANCE in Q4 2018,2017,2016,2015 ?', {'entities': [(28, 33, 'Product'), (37, 43, 'Country'), (47, 49, 'Quarter'), (50, 54, 'Year'), (55, 59, 'Year'), (60, 64, 'Year'), (65, 69, 'Year')]}),\n",
    "           ('What are the total sales of Prod3 in India in Q1 2014 ?', {'entities': [(28, 33, 'Product'), (37, 42, 'Country'), (46, 48, 'Quarter'), (49, 53, 'Year')]}), \n",
    "            ('What are the total sales of Prod1,Prod2 in US in Q4 2018 ?', {'entities': [(28, 33, 'Product'), (34, 39, 'Product'), (43, 45, 'Country'), (49, 51, 'Quarter'), (52, 56, 'Year')]}), \n",
    "            ('What are the total sales of Prod1 in Japan,UK in Q4 2018 ?', {'entities': [(28, 33, 'Product'), (37, 42, 'Country'), (43, 45, 'Country'), (49, 51, 'Quarter'), (52, 56, 'Year')]}), \n",
    "            ('What are the total sales of Prod1 in India in Q4,Q2,Q3 2018 ?', {'entities': [(28, 33, 'Product'), (37, 42, 'Country'), (46, 48, 'Quarter'), (49, 51, 'Quarter'), (52, 54, 'Quarter'), (55, 59, 'Year')]}),\n",
    "            ('What are the total sales of Prod1,Prod3 in US,France,China in Q4 2018 ?', {'entities': [(28, 33, 'Product'), (34, 39, 'Product'), (43, 45, 'Country'), (46, 52, 'Country'), (53, 58, 'Country'), (62, 64, 'Quarter'), (65, 69, 'Year')]}), \n",
    "            ('What are the total sales of Prod1,Prod3 in US in Q4,Q2,Q3,Q1 2018 ?', {'entities': [(28, 33, 'Product'), (34, 39, 'Product'), (43, 45, 'Country'), (49, 51, 'Quarter'), (52, 54, 'Quarter'), (55, 57, 'Quarter'), (58, 60, 'Quarter'), (61, 65, 'Year')]}),\n",
    "           ('What are the total sales of Prod1,Prod2 in US in 2018 ?', {'entities': [(28, 33, 'Product'), (34, 39, 'Product'), (43, 45, 'Country'), (49, 53, 'Year')]}), \n",
    "            ('What are the total sales of Prolia in India,UK in 2018 ?', {'entities': [(28, 34, 'Product'), (38, 43, 'Country'), (44, 46, 'Country'), (50, 54, 'Year')]}), \n",
    "            ('What are the total sales of Prod2 in CANADA in 2016,2017,2018 ?', {'entities': [(28, 33, 'Product'), (37, 43, 'Country'), (47, 51, 'Year'), (52, 56, 'Year'), (57, 61, 'Year')]}), \n",
    "            ('What are the total sales of Prod2 in CANADA in 2017, 2018 ?', {'entities': [(28, 33, 'Product'), (37, 43, 'Country'), (47, 51, 'Year'), (53, 57, 'Year')]}), \n",
    "            ('What are the total sales of Prod2, Prod1 in CANADA in 2017 and 2018 ?', {'entities': [(28, 33, 'Product'), (35, 40, 'Product'), (44, 50, 'Country'), (54, 58, 'Year'), (63, 67, 'Year')]}), \n",
    "            ('What are the total sales of Prod2 in CANADA, USA in 2017 ?', {'entities': [(28, 33, 'Product'), (37, 43, 'Country'), (45, 48, 'Country'), (52, 56, 'Year')]}), \n",
    "            ('What are the total sales of Prod1 in US and France in Q4 2018 ?', {'entities': [(28, 33, 'Product'), (37, 39, 'Country'), (44, 50, 'Country'), (54, 56, 'Quarter'), (57, 61, 'Year')]}), \n",
    "            ('What are the total sales of Prod1,Prod2 in GERMANY and France in Q4 2017 ?', {'entities': [(28, 33, 'Product'), (34, 39, 'Product'), (43, 50, 'Country'), (55, 61, 'Country'), (65, 67, 'Quarter'), (68, 72, 'Year')]}),\n",
    "            ('What are the total sales of Prod1 and Prod2 in GERMANY and France in Q4 2017 ?', {'entities': [(28, 33, 'Product'), (38, 43, 'Product'), (47, 54, 'Country'), (59, 65, 'Country'), (69, 71, 'Quarter'), (72, 76, 'Year')]}), \n",
    "            ('What are the total sales of Prod1 in GERMANY and France in Q4 2017 and 2018 ?', {'entities': [(28, 33, 'Product'), (37, 44, 'Country'), (49, 55, 'Country'), (59, 61, 'Quarter'), (62, 66, 'Year'), (71, 75, 'Year')]}), \n",
    "            ('What are the total sales of Prod1 in GERMANY and France in Q4 2017,2018,2019,2020 ?', {'entities': [(28, 33, 'Product'), (37, 44, 'Country'), (49, 55, 'Country'), (59, 61, 'Quarter'), (62, 66, 'Year'), (67, 71, 'Year'), (72, 76, 'Year'), (77, 81, 'Year')]}),\n",
    "           ('\\n  What are\\n  the total sales of Prod2, Prod3 in Q1 2018?', {'entities': [(33, 38, 'Product'), (40, 45, 'Product'), (49, 51, 'Quarter'), (52, 56, 'Year')]}), \n",
    "            ('\\n  What are\\n  the total sales of Prod2 in Q1, Q2, Q3 2018?', {'entities': [(33, 38, 'Product'), (42, 44, 'Quarter'), (46, 48, 'Quarter'), (50, 52, 'Quarter'), (53, 57, 'Year')]}), \n",
    "            ('\\n  What are\\n  the total sales of Prolia, XYZ in Q1 2018 and 2017?', {'entities': [(33, 39, 'Product'), (41, 44, 'Product'), (48, 50, 'Quarter'), (51, 55, 'Year'), (60, 64, 'Year')]}),\n",
    "           ('What are the total sales of Prod1 in US, France, Germany?', {'entities': [(28, 33, 'Product'), (37, 39, 'Country'), (41, 47, 'Country'), (49, 56, 'Country')]}), \n",
    "            ('What are the total sales of Prod2, Prod3 in US, Japan, India, UK?', {'entities': [(31, 36, 'Product'), (38, 43, 'Product'), (47, 49, 'Country'), (51, 56, 'Country'), (58, 63, 'Country'), (65, 67, 'Country')]}),\n",
    "           ('What are the total sales of Prod1, Prod2 in UK, Japan, India?', {'entities': [(31, 36, 'Product'), (38, 43, 'Product'), (47, 49, 'Country'), (51, 56, 'Country'), (58, 63, 'Country')]}),\n",
    "           ('\\n  What is\\n  the sales of Prod2 in USA in 2016-2018?', {'entities': [(26, 31, 'Product'), (35, 38, 'Country'), (42, 51, 'Range')]}), \n",
    "            ('\\n  What are\\n  the total sales of Prod1 in USA in Q1 2018-2020 ?', {'entities': [(33, 38, 'Product'), (42, 45, 'Country'), (49, 51, 'Quarter'), (52, 61, 'Range')]}), \n",
    "            ('\\n  What are\\n  the total sales of Prolia in Canada and France in Q1 2015-2020 ?', {'entities': [(33, 39, 'Product'), (43, 49, 'Country'), (54, 60, 'Country'), (64, 66, 'Quarter'), (67, 76, 'Range')]}), \n",
    "            ('\\n  What is\\n  the sales of Prod1 in India from 2016 to 2018?', {'entities': [(26, 31, 'Product'), (35, 40, 'Country'), (46, 58, 'Range')]}), \n",
    "            ('\\n  What is\\n  the sales of tymlos in UK in 2016-2018?', {'entities': [(26, 32, 'Product'), (36, 38, 'Country'), (42, 51, 'Range')]}), \n",
    "            ('\\n  What are\\n  the total sales of Prod2 in India in Q1 2018 to 2020 ?', {'entities': [(33, 38, 'Product'), (42, 47, 'Country'), (51, 53, 'Quarter'), (54, 66, 'Range')]}), \n",
    "            ('\\n  What are\\n  the total sales of Prod2 in UK and France in Q1 2018 to 2020?', {'entities': [(33, 38, 'Product'), (42, 44, 'Country'), (49, 55, 'Country'), (59, 61, 'Quarter'), (62, 74, 'Range')]}),\n",
    "           ('\\n  What are\\n  the total sales of Prod2 in 2018 ?', {'entities': [(33, 38, 'Product'), (42, 46, 'Year')]}), \n",
    "            ('\\n  What are\\n  the total sales of Prod1 in 2017 ?', {'entities': [(33, 38, 'Product'), (42, 46, 'Year')]}), \n",
    "            ('show me the total sales of Prod1 in 2017 ?', {'entities': [(27, 32, 'Product'), (36, 40, 'Year')]}), \n",
    "            ('Give me the sales of Prolia in 2015 ?', {'entities': [(21, 27, 'Product'), (31, 35, 'Year')]}),\n",
    "            ('What are the total sales of Prod1 in Q1 ?', {'entities': [(28, 33, 'Product'), (37, 39, 'Quarter')]}),\n",
    "            ('What are the total sales of Prod2 in Q2 ?', {'entities': [(28, 33, 'Product'), (37, 39, 'Quarter')]}),\n",
    "            ('show me the total sales of Prod1 in Q3 ?', {'entities': [(27, 32, 'Product'), (36, 38, 'Quarter')]})]\n",
    "           "
   ]
  },
  {
   "cell_type": "code",
   "execution_count": 2,
   "metadata": {},
   "outputs": [
    {
     "name": "stdout",
     "output_type": "stream",
     "text": [
      "Starting iteration 0\n",
      "{'ner': 235.2791392141531}\n",
      "Starting iteration 1\n",
      "{'ner': 39.31106257647145}\n",
      "Starting iteration 2\n",
      "{'ner': 27.49134358430208}\n",
      "Starting iteration 3\n",
      "{'ner': 14.334416165210794}\n",
      "Starting iteration 4\n",
      "{'ner': 24.235967324159027}\n",
      "Starting iteration 5\n",
      "{'ner': 0.3792812908531963}\n",
      "Starting iteration 6\n",
      "{'ner': 0.02362429408266848}\n",
      "Starting iteration 7\n",
      "{'ner': 0.0006013210310237087}\n",
      "Starting iteration 8\n",
      "{'ner': 1.5014466844882857}\n",
      "Starting iteration 9\n",
      "{'ner': 1.9617794964685737}\n",
      "Starting iteration 10\n",
      "{'ner': 5.560920350810096e-05}\n",
      "Starting iteration 11\n",
      "{'ner': 0.00044546237653892237}\n",
      "Starting iteration 12\n",
      "{'ner': 2.066497088297291e-06}\n",
      "Starting iteration 13\n",
      "{'ner': 6.128321056369028e-05}\n",
      "Starting iteration 14\n",
      "{'ner': 9.10287057124982e-05}\n",
      "Starting iteration 15\n",
      "{'ner': 6.2966590282426735e-06}\n",
      "Starting iteration 16\n",
      "{'ner': 9.576511787801748e-06}\n",
      "Starting iteration 17\n",
      "{'ner': 3.1400232361418685e-05}\n",
      "Starting iteration 18\n",
      "{'ner': 0.00017914917258405287}\n",
      "Starting iteration 19\n",
      "{'ner': 3.7264791268016496e-05}\n",
      "Starting iteration 20\n",
      "{'ner': 6.117617001397027e-07}\n",
      "Starting iteration 21\n",
      "{'ner': 1.3906797458967515e-05}\n",
      "Starting iteration 22\n",
      "{'ner': 2.491513882820702e-06}\n",
      "Starting iteration 23\n",
      "{'ner': 1.8378137894539652e-07}\n",
      "Starting iteration 24\n",
      "{'ner': 2.2664246695963727e-08}\n",
      "Starting iteration 25\n",
      "{'ner': 2.9305736050553066e-07}\n",
      "Starting iteration 26\n",
      "{'ner': 6.716927368257582e-07}\n",
      "Starting iteration 27\n",
      "{'ner': 3.492603903382793e-06}\n",
      "Starting iteration 28\n",
      "{'ner': 1.6388290363858298e-06}\n",
      "Starting iteration 29\n",
      "{'ner': 1.1529255887364724e-07}\n"
     ]
    }
   ],
   "source": [
    "import spacy\n",
    "import random\n",
    "\n",
    "def train_spacy(data,iterations):\n",
    "    TRAIN_DATA = data\n",
    "    nlp = spacy.blank('en')  # create blank Language class\n",
    "    # create the built-in pipeline components and add them to the pipeline\n",
    "    # nlp.create_pipe works for built-ins that are registered with spaCy\n",
    "    if 'ner' not in nlp.pipe_names:\n",
    "        ner = nlp.create_pipe('ner')\n",
    "        nlp.add_pipe(ner, last=True)\n",
    "       \n",
    "\n",
    "    # add labels\n",
    "    for _, annotations in TRAIN_DATA:\n",
    "         for ent in annotations.get('entities'):\n",
    "            ner.add_label(ent[2])\n",
    "\n",
    "    # get names of other pipes to disable them during training\n",
    "    other_pipes = [pipe for pipe in nlp.pipe_names if pipe != 'ner']\n",
    "    with nlp.disable_pipes(*other_pipes):  # only train NER\n",
    "        optimizer = nlp.begin_training()\n",
    "        for itn in range(iterations):\n",
    "            print(\"Starting iteration \" + str(itn))\n",
    "            random.shuffle(TRAIN_DATA)\n",
    "            losses = {}\n",
    "            for text, annotations in TRAIN_DATA:\n",
    "                nlp.update(\n",
    "                    [text],  # batch of texts\n",
    "                    [annotations],  # batch of annotations\n",
    "                    drop=0.2,  # dropout - make it harder to memorise data\n",
    "                    sgd=optimizer,  # callable to update weights\n",
    "                    losses=losses)\n",
    "            print(losses)\n",
    "    return nlp\n",
    "\n",
    "\n",
    "prdnlp = train_spacy(TRAIN_DATA, 30)"
   ]
  },
  {
   "cell_type": "code",
   "execution_count": 3,
   "metadata": {},
   "outputs": [
    {
     "name": "stdout",
     "output_type": "stream",
     "text": [
      "Enter your Model Name: LatestModel_2\n"
     ]
    }
   ],
   "source": [
    "# Save our trained Model\n",
    "modelfile = input(\"Enter your Model Name: \")\n",
    "prdnlp.to_disk(modelfile)"
   ]
  },
  {
   "cell_type": "code",
   "execution_count": 1,
   "metadata": {},
   "outputs": [
    {
     "name": "stdout",
     "output_type": "stream",
     "text": [
      "2.2.3\n"
     ]
    }
   ],
   "source": [
    "import spacy\n",
    "print(spacy.__version__)"
   ]
  }
 ],
 "metadata": {
  "kernelspec": {
   "display_name": "Python 3",
   "language": "python",
   "name": "python3"
  },
  "language_info": {
   "codemirror_mode": {
    "name": "ipython",
    "version": 3
   },
   "file_extension": ".py",
   "mimetype": "text/x-python",
   "name": "python",
   "nbconvert_exporter": "python",
   "pygments_lexer": "ipython3",
   "version": "3.7.4"
  }
 },
 "nbformat": 4,
 "nbformat_minor": 2
}
