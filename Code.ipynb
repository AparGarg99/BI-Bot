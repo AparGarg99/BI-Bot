{
 "cells": [
  {
   "cell_type": "markdown",
   "metadata": {},
   "source": [
    "# Import Libraries"
   ]
  },
  {
   "cell_type": "code",
   "execution_count": null,
   "metadata": {},
   "outputs": [],
   "source": [
    "import spacy\n",
    "from spacy import displacy\n",
    "import re\n",
    "import pandas as pd\n",
    "import seaborn as sns\n",
    "import matplotlib.pyplot as plt\n",
    "import itertools\n",
    "import numpy as np\n",
    "from nltk.metrics import edit_distance\n",
    "import operator\n",
    "import os"
   ]
  },
  {
   "cell_type": "markdown",
   "metadata": {},
   "source": [
    "# Read Data"
   ]
  },
  {
   "cell_type": "code",
   "execution_count": null,
   "metadata": {},
   "outputs": [],
   "source": [
    "df=pd.read_csv('C:/Users/Amit/Desktop/Internships/DCube/dataset.csv')\n",
    "syn=pd.read_excel('C:/Users/Amit/Desktop/Internships/DCube/synonyms.xlsx')"
   ]
  },
  {
   "cell_type": "markdown",
   "metadata": {},
   "source": [
    "# Data Pre-processing"
   ]
  },
  {
   "cell_type": "markdown",
   "metadata": {},
   "source": [
    "### Noise Removal"
   ]
  },
  {
   "cell_type": "code",
   "execution_count": null,
   "metadata": {},
   "outputs": [],
   "source": [
    "def preprocess(test_text):\n",
    "    punctuations = '''!()[]{};:'\"\\<>./?@#$%^&*_~'''    \n",
    "    no_punct=''\n",
    "    for char in test_text:\n",
    "        if char not in punctuations:\n",
    "            no_punct = no_punct + char\n",
    "    no_punct=re.sub(' +', ' ', no_punct)\n",
    "    \n",
    "    return no_punct.lower()"
   ]
  },
  {
   "cell_type": "markdown",
   "metadata": {},
   "source": [
    "### Text normalization"
   ]
  },
  {
   "cell_type": "code",
   "execution_count": null,
   "metadata": {},
   "outputs": [],
   "source": [
    "def syn_fun(test_text):\n",
    "    for i in range(syn.shape[0]):\n",
    "        x=str(syn.at[i,'Value'])\n",
    "        if(x in test_text):\n",
    "            test_text=test_text.replace(x,syn.at[i,'Value Representation in Data'])\n",
    "    return test_text"
   ]
  },
  {
   "cell_type": "markdown",
   "metadata": {},
   "source": [
    "# NER"
   ]
  },
  {
   "cell_type": "code",
   "execution_count": null,
   "metadata": {},
   "outputs": [],
   "source": [
    "def NER(test_text):\n",
    "    prdnlp = spacy.load(\"LatestModel_2\")\n",
    "    doc = prdnlp(test_text)\n",
    "    prod_list=[]\n",
    "    coun_list=[]\n",
    "    year_list=[]\n",
    "    quarter_list=[]\n",
    "    for ent in doc.ents:\n",
    "        #print(ent.text, ent.start_char, ent.end_char, ent.label_)\n",
    "        if(ent.label_=='Product'):\n",
    "            prod_list.append(ent.text)\n",
    "        if(ent.label_=='Country'):\n",
    "            coun_list.append(ent.text)\n",
    "        if(ent.label_=='Year' or ent.label_ =='Range'):\n",
    "            year_list.append(ent.text)\n",
    "        if(ent.label_=='Quarter'):\n",
    "            quarter_list.append(ent.text)\n",
    "    return prod_list,coun_list,year_list,quarter_list"
   ]
  },
  {
   "cell_type": "code",
   "execution_count": null,
   "metadata": {},
   "outputs": [],
   "source": [
    "def list_2(prod_list,coun_list,year_list,quarter_list):    \n",
    "    prod_list_2=[]\n",
    "    for i in prod_list:\n",
    "        if(',' in i):\n",
    "            for j in i.split(','):\n",
    "                prod_list_2.append(j)\n",
    "        else:\n",
    "            prod_list_2.append(i)\n",
    "    ##########################################################\n",
    "    coun_list_2=[]\n",
    "    for i in coun_list:\n",
    "        if(',' in i):\n",
    "            for j in i.split(','):\n",
    "                coun_list_2.append(j)\n",
    "        else:\n",
    "            coun_list_2.append(i)\n",
    "    ##########################################################\n",
    "    year_list_2=[]\n",
    "    for i in year_list:\n",
    "        if(',' in i):\n",
    "            for j in i.split(','):\n",
    "                year_list_2.append(j)\n",
    "        elif('-' in i):\n",
    "            x=i.split('-')\n",
    "            for j in range(int(x[0]),int(x[1])+1):\n",
    "                year_list_2.append(j)\n",
    "        elif(' to ' in i):\n",
    "            x=i.split(' to ')\n",
    "            for j in range(int(x[0]),int(x[1])+1):\n",
    "                year_list_2.append(j)\n",
    "        else:\n",
    "            year_list_2.append(i)\n",
    "    ##########################################################\n",
    "    quarter_list_2=[]\n",
    "    for i in quarter_list:\n",
    "        if(',' in i):\n",
    "            for j in i.split(','):\n",
    "                quarter_list_2.append(j)\n",
    "        else:\n",
    "            quarter_list_2.append(i)\n",
    "    return prod_list_2,coun_list_2,year_list_2,quarter_list_2"
   ]
  },
  {
   "cell_type": "markdown",
   "metadata": {},
   "source": [
    "# Spelling Correction"
   ]
  },
  {
   "cell_type": "code",
   "execution_count": null,
   "metadata": {},
   "outputs": [],
   "source": [
    "def spell_check(prod_list_2,coun_list_2,year_list_2,quarter_list_2):\n",
    "    l=[]\n",
    "    for i in prod_list_2:\n",
    "        d={}\n",
    "        for j in df['Local Product']:\n",
    "            d[j]=edit_distance(i.lower(),j.lower())\n",
    "        l.append(min(d, key=d.get))\n",
    "    if(min(d.values())<=2):\n",
    "        prod_list_2=l\n",
    "    ##########################################################\n",
    "    l=[]\n",
    "    for i in coun_list_2:\n",
    "        d={}\n",
    "        for j in df['Country']:\n",
    "            d[j]=edit_distance(i.lower(),j.lower())\n",
    "        l.append(min(d, key=d.get))\n",
    "    if(min(d.values())<=2):\n",
    "        coun_list_2=l\n",
    "    return prod_list_2,coun_list_2,year_list_2,quarter_list_2"
   ]
  },
  {
   "cell_type": "markdown",
   "metadata": {},
   "source": [
    "# Question Type : versus \"last year\" sales"
   ]
  },
  {
   "cell_type": "code",
   "execution_count": null,
   "metadata": {},
   "outputs": [],
   "source": [
    "def vly(year_list_2):\n",
    "    if(len(year_list_2)==1 and 'last year' in test_text):\n",
    "        year_list_2.append(int(year_list_2[0])-1)\n",
    "    return year_list_2"
   ]
  },
  {
   "cell_type": "markdown",
   "metadata": {},
   "source": [
    "# Check Validity"
   ]
  },
  {
   "cell_type": "code",
   "execution_count": null,
   "metadata": {},
   "outputs": [],
   "source": [
    "def check(prod_list_2,coun_list_2,year_list_2,quarter_list_2):\n",
    "    m1=(set(prod_list_2) & set(df['Local Product']))== set(prod_list_2)\n",
    "    m2=(set(coun_list_2) & set(df['Country']))== set(coun_list_2)\n",
    "    m3=(set([int(i) for i in year_list_2]) & set(df['Year']))== set([int(i) for i in year_list_2])\n",
    "    m4=(set(quarter_list_2) & set(df['Quarter']))== set(quarter_list_2)\n",
    "    m5=m1 and m2 and m3 and m4\n",
    "    return m5"
   ]
  },
  {
   "cell_type": "markdown",
   "metadata": {},
   "source": [
    "# Data Engine"
   ]
  },
  {
   "cell_type": "markdown",
   "metadata": {},
   "source": [
    "### DataFrame functions"
   ]
  },
  {
   "cell_type": "code",
   "execution_count": null,
   "metadata": {},
   "outputs": [],
   "source": [
    "def DE(prod_list_2,coun_list_2,year_list_2,quarter_list_2):\n",
    "    if quarter_list_2==[]:\n",
    "        quarter_list_2.append('')\n",
    "    if coun_list_2==[]:\n",
    "        coun_list_2.append('')\n",
    "    if prod_list_2==[]:\n",
    "        prod_list_2.append('')\n",
    "    if year_list_2==[]:\n",
    "        year_list_2.append('')\n",
    "    c = list(itertools.product(prod_list_2, coun_list_2,year_list_2,quarter_list_2))\n",
    "    return c"
   ]
  },
  {
   "cell_type": "code",
   "execution_count": null,
   "metadata": {},
   "outputs": [],
   "source": [
    "def QTD(c):    \n",
    "    q1=['january','february','march']\n",
    "    q2=['april','may','june']\n",
    "    q3=['july','august','september']\n",
    "    q4=['october','november','december'] \n",
    "    l=[]\n",
    "    a=input('Please enter Current Month: ')\n",
    "    k=[list(i) for i in c]\n",
    "    for i in range(len(c)):\n",
    "        if(a.lower() in q1):  \n",
    "            k[i][3]='Q1'   \n",
    "        elif(a.lower() in q2):\n",
    "            k[i][3]='Q2'\n",
    "        elif(a.lower() in q3):\n",
    "            k[i][3]='Q3'\n",
    "        elif(a.lower() in q4):\n",
    "            k[i][3]='Q4'\n",
    "        if(k[i][2]==''):\n",
    "            k[i][2]=sorted(df['Year'])[-1]\n",
    "    c=[tuple(i) for i in k]\n",
    "    return c"
   ]
  },
  {
   "cell_type": "code",
   "execution_count": null,
   "metadata": {},
   "outputs": [],
   "source": [
    "def MAT(c):\n",
    "    k=[list(c[0]) for i in range(4)]\n",
    "    for i in range(1,len(k)):\n",
    "        x=list(k[0][3])\n",
    "        k[i][3]=x[0]+str(int(x[1])-i)\n",
    "        if(k[i][3]=='Q0'):\n",
    "            k[i][3]='Q4'\n",
    "            k[i][2]=k[i][2]-1\n",
    "        if(k[i][3]=='Q-1'):\n",
    "            k[i][3]='Q3'\n",
    "            k[i][2]=k[i][2]-1\n",
    "        if(k[i][3]=='Q-2'):\n",
    "            k[i][3]='Q2'\n",
    "            k[i][2]=k[i][2]-1\n",
    "    c=[tuple(i) for i in k]\n",
    "    return c"
   ]
  },
  {
   "cell_type": "code",
   "execution_count": null,
   "metadata": {},
   "outputs": [],
   "source": [
    "def fun1(prod,coun,year,quarter):\n",
    "    y=(df.loc[(df['Local Product']==prod) &(df['Country']==coun) & (df['Year']==int(year)) & (df['Quarter']==quarter)])\n",
    "    return y;"
   ]
  },
  {
   "cell_type": "code",
   "execution_count": null,
   "metadata": {},
   "outputs": [],
   "source": [
    "def DataEngine(c):\n",
    "    total_df=[]\n",
    "    for query in set(c):\n",
    "        #print('Refined Question is: ')\n",
    "    ########################################################################################################################\n",
    "        if(query[0]!='' and query[1]=='' and query[2]!='' and query[3]!=''): # If Country is empty\n",
    "            #print('What is the total sales of',query[0],'in',query[2],'in',query[3],'?')\n",
    "            y=df.loc[(df['Local Product']==query[0]) & (df['Year']==query[2]) & (df['Quarter']==query[3])]\n",
    "            data=pd.DataFrame(y)\n",
    "            total_df.append(data)\n",
    "    ########################################################################################################################\n",
    "        elif(query[0]!='' and query[1]!='' and query[2]=='' and query[3]!=''): # If Year is empty\n",
    "            #print('What is the total sales of',query[0],'in',query[1],'in',query[3],'?')\n",
    "            for_all=input('Do you want this for all years(y/n): ')\n",
    "            if(for_all=='y'):\n",
    "                y=df.loc[(df['Local Product']==query[0]) &(df['Country']==query[1]) & (df['Quarter']==query[3]) ]\n",
    "                data=pd.DataFrame(y)\n",
    "                total_df.append(data)\n",
    "            else:\n",
    "                enter_more='y'\n",
    "                count=1\n",
    "                while(enter_more=='y' and count<=len(set(df['Year']))):\n",
    "                    print('Okay.. But which Year you are interested in\\nplz enter')\n",
    "                    a=int(input())\n",
    "                    if(a in set(df['Year'])):\n",
    "                        count=count+1\n",
    "                    #print(count)    \n",
    "                    y=fun1(query[0],query[1],a,query[3])\n",
    "                    data=pd.DataFrame(y)\n",
    "                    total_df.append(data)\n",
    "                    print('-'*50)\n",
    "                    if(count<=len(set(df['Year']))):\n",
    "                        enter_more=input('Do you want to give more inputs:(y/n): ')\n",
    "    ########################################################################################################################\n",
    "        elif(query[0]!='' and query[1]!='' and query[2]!='' and query[3]==''): # If Quarter is empty\n",
    "            #print('What is the total sales of',query[0],'in',query[1],'in',query[2],'?')\n",
    "            y=df.loc[(df['Local Product']==query[0]) & (df['Country']==query[1]) & (df['Year']==query[2])]\n",
    "            data=pd.DataFrame(y)\n",
    "            total_df.append(data)\n",
    "    ########################################################################################################################\n",
    "        elif(query[1]!='' and query[0]!='' and query[2]=='' and query[3]==''): # If Year and Quarter are empty\n",
    "            #print('What is the total sales of',query[0],'in',query[1],'?')\n",
    "            for_all=input('Do you want this for all years and quarters (y/n): ')\n",
    "            if(for_all=='n'):\n",
    "                enter_more='y'\n",
    "                while(enter_more=='y'):\n",
    "                    print('Okay.. But which time period you are interested in\\nplz enter')\n",
    "                    a1=int(input('Enter year: '))\n",
    "                    e=input('Do you want for all quarters(y/n): ')\n",
    "                    if(e=='y'):\n",
    "                        y=df.loc[(df['Local Product']==query[0]) &(df['Country']==query[1]) & (df['Year']==a1)]\n",
    "                    if(e=='n'):\n",
    "                        a2=input('Enter Quarter (Format: Q<number>): ')\n",
    "                        y=fun1(query[0],query[1],a1,a2)\n",
    "                    data=pd.DataFrame(y)\n",
    "                    total_df.append(data)\n",
    "                    print('-'*50)\n",
    "                    enter_more=input('Do you want to give more time period inputs:(y/n): ')\n",
    "            else:\n",
    "                y=df.loc[(df['Local Product']==query[0]) &(df['Country']==query[1])]\n",
    "                data=pd.DataFrame(y)\n",
    "                total_df.append(data)\n",
    "    ########################################################################################################################\n",
    "        elif(query[0]!='' and query[1]=='' and query[2]!='' and query[3]==''): # If Country and Quarter are empty\n",
    "            #print('What is the total sales of',query[0],'in',query[2],'?')\n",
    "            y=df.loc[(df['Local Product']==query[0]) &(df['Year']==query[2])]\n",
    "            data=pd.DataFrame(y)\n",
    "            total_df.append(data)\n",
    "    ######################################################################################################################## \n",
    "        elif(query[0]!='' and query[1]=='' and query[2]=='' and query[3]!=''): # If Year and Country are empty\n",
    "            #print('What is the total sales of',query[0],'in',query[3],'?')\n",
    "            for_all=input('Do you want this for all years and countries (y/n): ')\n",
    "            if(for_all=='y'):\n",
    "                y=df.loc[(df['Local Product']==query[0]) &(df['Quarter']==query[3])]\n",
    "                data=pd.DataFrame(y)\n",
    "                total_df.append(data)\n",
    "            else:\n",
    "                enter_more='y'\n",
    "                while(enter_more=='y'):\n",
    "                    print('Okay.. But which Year and Country are you interested in\\nplz enter')\n",
    "                    a=input('Format : <Country><space><Year>').split()\n",
    "                    y=fun1(query[0],a[0],a[1],query[3])\n",
    "                    data=pd.DataFrame(y)\n",
    "                    total_df.append(data)\n",
    "                    print('-'*50)\n",
    "                    enter_more=input('Do you want to give more inputs:(y/n): ')\n",
    "    ########################################################################################################################  \n",
    "        elif(query[0]!='' and query[1]=='' and query[2]=='' and query[3]==''): # All empty except Product\n",
    "            #print('What is the total sales of',query[0],'?')\n",
    "            y=df.loc[(df['Local Product']==query[0])]\n",
    "            data=pd.DataFrame(y)\n",
    "            total_df.append(data)\n",
    "    ########################################################################################################################  \n",
    "        else: # If NONE are empty\n",
    "            #print('What is the total sales of',query[0],'in',query[1],'in',query[2],'in',query[3],'?')\n",
    "            y=fun1(query[0],query[1],query[2],query[3])\n",
    "            data=pd.DataFrame(y)\n",
    "            total_df.append(data)\n",
    "        #print('*'*100)\n",
    "    total_df=pd.concat(total_df)\n",
    "    return total_df"
   ]
  },
  {
   "cell_type": "markdown",
   "metadata": {},
   "source": [
    "### Bar-plot functions"
   ]
  },
  {
   "cell_type": "code",
   "execution_count": null,
   "metadata": {},
   "outputs": [],
   "source": [
    "def temp(total_df):\n",
    "    d={}\n",
    "    for i in total_df.columns[:-1]:\n",
    "        d[i]=len(set(total_df[i]))\n",
    "    sorted_x = sorted(d.items(), key=operator.itemgetter(1))\n",
    "    l=[i[0] for i in sorted_x if i[1]!=1]\n",
    "    return l\n",
    "def plot1(l,total_df):\n",
    "    if(total_df.empty==False and l!=[]):\n",
    "        x1=total_df.groupby(l[0])['US$ MNF'].sum()\n",
    "        return x1.plot.bar(rot=0)\n",
    "    else:\n",
    "        return \"\"\n",
    "def plot2(l,total_df):\n",
    "    if(total_df.empty==False and len(l)>1):\n",
    "        x2=total_df.groupby(l[:2])['US$ MNF'].sum()\n",
    "        return x2\n",
    "    else:\n",
    "        return \"\""
   ]
  },
  {
   "cell_type": "code",
   "execution_count": null,
   "metadata": {},
   "outputs": [],
   "source": [
    "def dic(x2):\n",
    "    d={}\n",
    "    for i in range(len(x2.index)):\n",
    "        d[list(x2.index)[i]]=list(x2.values)[i]\n",
    "    return d\n",
    "\n",
    "def plot(a,lis1,lis2,label):\n",
    "    # set width of bar\n",
    "    barWidth = 1/(len(a)+1)\n",
    "    r=[]\n",
    "    # Set position of bar on X axis\n",
    "    r1 = [i for i in range(len(a[0]))]\n",
    "    r.append(r1)\n",
    "    for i in range(len(a)-1):\n",
    "        r2 = [x + barWidth for x in r[i]]\n",
    "        r.append(r2)\n",
    "    plt.figure(figsize=(9,5))\n",
    "    # Make the plot\n",
    "    for i in range(len(a)):\n",
    "        plt.bar(r[i],a[i], color=np.random.rand(3,), width=barWidth, edgecolor='white', label=lis1[i])\n",
    "     \n",
    "    # Add xticks on the middle of the group bars\n",
    "    \n",
    "    plt.xlabel(label, fontweight='bold')\n",
    "    plt.xticks([r + barWidth for r in range(len(a[0]))],lis2)\n",
    "     \n",
    "    # Create legend & Show graphic\n",
    "    plt.legend()\n",
    "    plt.show()\n",
    "\n",
    "def preprocess_dict(d,l):\n",
    "    prod=[]\n",
    "    cty=[]\n",
    "    for i in d.keys():\n",
    "        if(i[0] not in prod):\n",
    "            prod.append(i[0])\n",
    "        if(i[1] not in cty):\n",
    "            cty.append(i[1])\n",
    "    prod.sort()\n",
    "    cty.sort()\n",
    "    a=[[0 for i in range(len(cty))] for i in range (len(prod))] #x-axis country\n",
    "    b=[[0 for i in range(len(prod))] for i in range (len(cty))]  #x-axis product\n",
    "    for i in d.keys():\n",
    "        m1=prod.index(i[0])\n",
    "        n1=cty.index(i[1])\n",
    "        a[m1][n1]=d[i]\n",
    "    for i in d.keys():\n",
    "        m1=prod.index(i[0])\n",
    "        n1=cty.index(i[1])\n",
    "        b[n1][m1]=d[i]\n",
    "\n",
    "    plot(b,cty,prod,l[0])"
   ]
  },
  {
   "cell_type": "markdown",
   "metadata": {},
   "source": [
    "# Function calling"
   ]
  },
  {
   "cell_type": "code",
   "execution_count": null,
   "metadata": {},
   "outputs": [],
   "source": [
    "num=True\n",
    "count=1\n",
    "while(num):\n",
    "    test_text = input(\"Enter your testing text: \")\n",
    "    test_text=preprocess(test_text)\n",
    "    test_text=syn_fun(test_text)\n",
    "    prod_list,coun_list,year_list,quarter_list=NER(test_text)\n",
    "    prod_list_2,coun_list_2,year_list_2,quarter_list_2=list_2(prod_list,coun_list,year_list,quarter_list)\n",
    "    try:\n",
    "        prod_list_2,coun_list_2,year_list_2,quarter_list_2=spell_check(prod_list_2,coun_list_2,year_list_2,quarter_list_2)\n",
    "        year_list_2=vly(year_list_2)\n",
    "        m5=check(prod_list_2,coun_list_2,year_list_2,quarter_list_2)\n",
    "        if(m5==False):\n",
    "            raise Exception()\n",
    "        try:\n",
    "            c=DE(prod_list_2,coun_list_2,year_list_2,quarter_list_2)\n",
    "            c=[list(i) for i in c]\n",
    "            for i in range(len(c)):\n",
    "                if(c[i][2]!=''):\n",
    "                    c[i][2]=int(c[i][2])\n",
    "            c=[tuple(i) for i in c]\n",
    "            if('QTD sales' in test_text):\n",
    "                c=QTD(c)\n",
    "            if('MAT sales' in test_text):\n",
    "                c=MAT(c)\n",
    "            total_df=DataEngine(c)\n",
    "            print(total_df)\n",
    "            print('Total sales is',total_df['US$ MNF'].sum(),'$')\n",
    "            l=temp(total_df)\n",
    "            plot1(l,total_df) #-----------display plot1\n",
    "            #plt.savefig(output_path+'/plot1.png') # save plot1 as img\n",
    "            if(len(l)>1):\n",
    "                x2=plot2(l,total_df)\n",
    "                d=dic(x2)\n",
    "                preprocess_dict(d,l) #------------display plot2\n",
    "            if('average sales' in test_text):\n",
    "                print('Average sales is',total_df['US$ MNF'].mean(),'$')\n",
    "        except Exception:\n",
    "            print('This combination does not exist')\n",
    "    except Exception:\n",
    "        print(\"OUT OF CONTEXT QUESTION: Apologies.. I don't understand your question !!\")\n",
    "    ques=input('Do you have any more questions(y/n): ')\n",
    "    if(ques=='y'):\n",
    "        num=True\n",
    "        count=count+1\n",
    "    else:\n",
    "        num=False"
   ]
  }
 ],
 "metadata": {
  "kernelspec": {
   "display_name": "Python 3",
   "language": "python",
   "name": "python3"
  },
  "language_info": {
   "codemirror_mode": {
    "name": "ipython",
    "version": 3
   },
   "file_extension": ".py",
   "mimetype": "text/x-python",
   "name": "python",
   "nbconvert_exporter": "python",
   "pygments_lexer": "ipython3",
   "version": "3.7.4"
  }
 },
 "nbformat": 4,
 "nbformat_minor": 2
}
